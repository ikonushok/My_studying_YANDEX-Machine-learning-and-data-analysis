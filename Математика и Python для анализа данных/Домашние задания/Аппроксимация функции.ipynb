{
 "cells": [
  {
   "cell_type": "markdown",
   "metadata": {},
   "source": [
    "Рассмотрим сложную математическую функцию на отрезке [1, 15]:\n",
    "f(x) = sin(x / 5) * exp(x / 10) + 5 * exp(-x / 2)\n",
    "\n",
    "Как известно, многочлен степени n (то есть w_0 + w_1 x + w_2 x^2 + ... + w_n x^n) однозначно определяется любыми n + 1 различными точками, через которые он проходит. Это значит, что его коэффициенты w_0, ... w_n можно определить из следующей системы линейных уравнений:\n",
    "\n",
    "где через x_1, ..., x_n, x_{n+1} обозначены точки, через которые проходит многочлен, а через f(x_1), ..., f(x_n), f(x_{n+1}) — значения, которые он должен принимать в этих точках."
   ]
  },
  {
   "cell_type": "code",
   "execution_count": 155,
   "metadata": {},
   "outputs": [],
   "source": [
    "import numpy as np\n",
    "import scipy.linalg\n",
    "import matplotlib.pyplot as plt\n",
    "%matplotlib inline\n",
    "\n",
    "from scipy import sin\n",
    "from scipy import exp"
   ]
  },
  {
   "cell_type": "code",
   "execution_count": 168,
   "metadata": {},
   "outputs": [
    {
     "name": "stdout",
     "output_type": "stream",
     "text": [
      "3.252216865271419\n",
      "0.6352214195786656\n"
     ]
    }
   ],
   "source": [
    "def f(x):\n",
    "    return np.array(sin (x / 5) * exp(x / 10) + 5 * exp(-x / 2))\n",
    "print f(1.)\n",
    "print f(15.)"
   ]
  },
  {
   "cell_type": "markdown",
   "metadata": {},
   "source": [
    "Берем многочлен первой степени w0 + w1*x = y\n",
    "\n",
    "Подставляем в него x (1 и 15) и y (вычисляем f от x)\n",
    "\n",
    "В точке 1 получаем: w0 + w1 * 1 = sin(1/5) * exp(1/10) + 5*exp(-1/2)\n",
    "    \n",
    "В точке 15 получаем: w0 + w1 * 15 = sin(15/5) * exp(15/10) + 5*exp(-15/2)\n",
    "\n",
    "    \n",
    "Получаем систему уравнений:\n",
    "    \n",
    "w0 + 1 * w1 = 3.252\n",
    "\n",
    "w0 + 15 * w1 = 0.635\n",
    "\n",
    "\n",
    "Решаем ее, w1 = -0.187, w0 = 3.439\n",
    "\n",
    "Итоговый многочлен y = 3.439 - 0.187x\n"
   ]
  },
  {
   "cell_type": "markdown",
   "metadata": {},
   "source": [
    "Создал матрицу коэффициентов A и свободный вектор b) для многочлена первой степени, который должен совпадать с функцией f в точках 1 и 15."
   ]
  },
  {
   "cell_type": "code",
   "execution_count": 158,
   "metadata": {},
   "outputs": [
    {
     "name": "stdout",
     "output_type": "stream",
     "text": [
      "[ 3.43914511 -0.18692825]\n"
     ]
    }
   ],
   "source": [
    "a1 = np.array([[1., 1.],\n",
    "               [1., 15.]])\n",
    "b1 = np.array([1., 15.])\n",
    "b1 = f(b1)\n",
    "c1 = scipy.linalg.solve(a1, b1)\n",
    "print c1"
   ]
  },
  {
   "cell_type": "markdown",
   "metadata": {},
   "source": [
    "Построил график для многочлена 1-й степени, \n",
    "который совпадает с функцией f в точках 1 и 15"
   ]
  },
  {
   "cell_type": "code",
   "execution_count": 162,
   "metadata": {},
   "outputs": [
    {
     "data": {
      "text/plain": [
       "[<matplotlib.lines.Line2D at 0x61a4ec850>]"
      ]
     },
     "execution_count": 162,
     "metadata": {},
     "output_type": "execute_result"
    },
    {
     "data": {
      "image/png": "[encoded data removed]",
      "text/plain": [
       "<Figure size 432x288 with 1 Axes>"
      ]
     },
     "metadata": {
      "needs_background": "light"
     },
     "output_type": "display_data"
    }
   ],
   "source": [
    "def f(x):\n",
    "    return np.array(sin (x / 5) * exp(x / 10) + 5 * exp(-x / 2))\n",
    "x = np.arange(0., 16.1, 0.1) \n",
    "y = f(x) \n",
    "plt.plot (x, y)\n",
    "\n",
    "x = np.arange(0., 16.1, 0.1) \n",
    "y = c1[0] + c1[1]*x \n",
    "plt.plot (x, y)"
   ]
  },
  {
   "cell_type": "markdown",
   "metadata": {},
   "source": [
    "для многочлена 2-й степени будет вот такое уравнение?\n",
    "\n",
    "w0 + w1 * x + w2 * x^2 = sin(x / 5) * exp(x / 10) + 5 * exp(-x / 2)\n",
    "\n",
    "\n",
    "Для точек 1, 8 и 15 получим:\n",
    "\n",
    "w0 + w1 * 1 + w2*1^2 = sin(1 / 5) * exp(1 / 10) + 5 * exp(-1 / 2)\n",
    "\n",
    "w0 + w1 * 8 + w2*8^2 = sin(8 / 5) * exp(8 / 10) + 5 * exp(-8 / 2)\n",
    "\n",
    "w0 + w1 * 15 + w2*15^2 = sin(15 / 5) * exp(15 / 10) + 5 * exp(-15 / 2)\n",
    "\n",
    "\n",
    "Система ур-й:\n",
    "\n",
    "w0 + w1*1 + w2*1^2 = 3.25\n",
    "\n",
    "w0 + w1*8 + w2*8^2 = 2.31\n",
    "\n",
    "w0 + w1*15 + w2*15^2 = 0.63"
   ]
  },
  {
   "cell_type": "markdown",
   "metadata": {},
   "source": [
    "Задал матрицу для многочлена 2-й степени, \n",
    "который совпадает с функцией f в точках 1, 8 и 15"
   ]
  },
  {
   "cell_type": "code",
   "execution_count": 151,
   "metadata": {},
   "outputs": [
    {
     "name": "stdout",
     "output_type": "stream",
     "text": [
      "[ 3.32512949 -0.06531159 -0.00760104]\n"
     ]
    }
   ],
   "source": [
    "a2 = np.array([[1., 1., 1.],\n",
    "               [1., 8., 64.],\n",
    "               [1., 15., 225.]])\n",
    "b2 = np.array([1., 8., 15.])\n",
    "b2 = f(b2)\n",
    "c2 = scipy.linalg.solve(a2, b2)\n",
    "print c2"
   ]
  },
  {
   "cell_type": "code",
   "execution_count": 152,
   "metadata": {},
   "outputs": [
    {
     "data": {
      "text/plain": [
       "[<matplotlib.lines.Line2D at 0x61a863cd0>]"
      ]
     },
     "execution_count": 152,
     "metadata": {},
     "output_type": "execute_result"
    },
    {
     "data": {
      "image/png": "[encoded data removed]",
      "text/plain": [
       "<Figure size 432x288 with 1 Axes>"
      ]
     },
     "metadata": {
      "needs_background": "light"
     },
     "output_type": "display_data"
    }
   ],
   "source": [
    "def f(x):\n",
    "    return np.array(sin (x / 5) * exp(x / 10) + 5 * exp(-x / 2))\n",
    "x = np.arange(0., 16.1, 0.1)\n",
    "y = f(x)\n",
    "plt.plot (x, y)\n",
    "\n",
    "x = np.arange(0., 16.1, 0.1)\n",
    "y = c2[0] + c2[1]*x + c2[2]*x*x\n",
    "plt.plot (x, y)"
   ]
  },
  {
   "cell_type": "markdown",
   "metadata": {},
   "source": [
    "Для точек 1, 4, 10 и 15\n",
    "\n",
    "w0 + w1 * 1 + w2*1^2 + w3*1^3 = sin(1 / 5) * exp(1 / 10) + 5 * exp(-1 / 2)\n",
    "\n",
    "w0 + w1 * 4 + w2*4^2 + w3*4^3 = sin(4 / 5) * exp(4 / 10) + 5 * exp(-4 / 2)\n",
    "\n",
    "w0 + w1 * 10 + w2*10^2 + w3*10^3 = sin(10 / 5) * exp(10 / 10) + 5 * exp(-10 / 2)\n",
    "\n",
    "w0 + w1 * 15 + w2*15^2 + w3*15^3 = sin(15 / 5) * exp(15 / 10) + 5 * exp(-15 / 2)\n",
    "\n",
    "[[1, 1, 1, 1], [1, 4, 16, 64], [1, 10, 100, 1000],[1, 15, 225, 3375]]\n",
    "\n",
    "\n",
    "Система ур-й:\n",
    "\n",
    "w0 + w1*1 + w2*1^2 +w3*1^3 = 3.25\n",
    "\n",
    "w0 + w1*4 + w2*4^2 + w3*4^3 = 1.74\n",
    "\n",
    "w0 + w1*10 + w2*10^2 + w3*10^3 = 2.50\n",
    "\n",
    "w0 + w1*15 + w2*15^2 + w3*15^3 = 0.63\n"
   ]
  },
  {
   "cell_type": "markdown",
   "metadata": {},
   "source": [
    "Задал матрицу для многочлена 3-й степени, \n",
    "который совпадает с функцией f в точках 1, 4, 10 и 15"
   ]
  },
  {
   "cell_type": "code",
   "execution_count": 163,
   "metadata": {},
   "outputs": [
    {
     "name": "stdout",
     "output_type": "stream",
     "text": [
      "[ 4.36264154 -1.29552587  0.19333685 -0.00823565]\n"
     ]
    }
   ],
   "source": [
    "a3 = np.array([[1., 1., 1., 1.], \n",
    "              [1., 4., 16., 64.], \n",
    "              [1., 10., 100., 1000.],\n",
    "              [1., 15., 225., 3375.]])\n",
    "b3 = np.array([1., 4., 10., 15.])\n",
    "b3 = f(b3)\n",
    "c3 = scipy.linalg.solve(a3, b3)\n",
    "print c3"
   ]
  },
  {
   "cell_type": "markdown",
   "metadata": {},
   "source": [
    "Построил графики для всех многочленов"
   ]
  },
  {
   "cell_type": "code",
   "execution_count": 165,
   "metadata": {},
   "outputs": [
    {
     "data": {
      "text/plain": [
       "[<matplotlib.lines.Line2D at 0x61ac825d0>]"
      ]
     },
     "execution_count": 165,
     "metadata": {},
     "output_type": "execute_result"
    },
    {
     "data": {
      "image/png": "[encoded data removed]",
      "text/plain": [
       "<Figure size 432x288 with 1 Axes>"
      ]
     },
     "metadata": {
      "needs_background": "light"
     },
     "output_type": "display_data"
    }
   ],
   "source": [
    "def f(x):\n",
    "    return np.array(sin (x / 5) * exp(x / 10) + 5 * exp(-x / 2))\n",
    "x = np.arange(0., 16.1, 0.1)\n",
    "y = f(x)\n",
    "plt.plot (x, y)\n",
    "\n",
    "x = np.arange(0., 16.1, 0.1)\n",
    "y = c0[0] + c0[1]*x\n",
    "plt.plot (x, y)\n",
    "\n",
    "x = np.arange(0., 16.1, 0.1)\n",
    "y = c2[0] + c2[1]*x + c2[2]*x*x\n",
    "plt.plot (x, y)\n",
    "\n",
    "x = np.arange(0., 16.1, 0.1)\n",
    "y = c3[0] + c3[1]*x + c3[2]*x*x + c3[3]*x*x*x\n",
    "plt.plot (x, y)"
   ]
  },
  {
   "cell_type": "code",
   "execution_count": null,
   "metadata": {},
   "outputs": [],
   "source": []
  }
 ],
 "metadata": {
  "kernelspec": {
   "display_name": "Python 2",
   "language": "python",
   "name": "python2"
  },
  "language_info": {
   "codemirror_mode": {
    "name": "ipython",
    "version": 2
   },
   "file_extension": ".py",
   "mimetype": "text/x-python",
   "name": "python",
   "nbconvert_exporter": "python",
   "pygments_lexer": "ipython2",
   "version": "2.7.16"
  }
 },
 "nbformat": 4,
 "nbformat_minor": 2
}
