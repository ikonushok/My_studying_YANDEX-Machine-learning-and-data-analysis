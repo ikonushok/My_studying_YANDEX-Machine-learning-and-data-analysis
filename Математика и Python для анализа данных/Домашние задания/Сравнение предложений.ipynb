{
 "cells": [
  {
   "cell_type": "code",
   "execution_count": 223,
   "metadata": {},
   "outputs": [],
   "source": [
    "import numpy as np\n",
    "import re"
   ]
  },
  {
   "cell_type": "code",
   "execution_count": 224,
   "metadata": {},
   "outputs": [],
   "source": [
    "#sentenses = open('sentences.txt')\n",
    "#a = sentenses.readline()\n",
    "#print a, type(a)\n",
    "#b = a.lower()  # Смотрю, как работает функция lower()\n",
    "#print b, type(b)\n",
    "#c = re.split('[^a-z]', b)  # Смотрю, как работает функция re.split('[^a-z]', line)\n",
    "#print c\n",
    "#d = [x for x in c if x != 'n' and x != ''] # Удалил разделители строк и пустые слова\n",
    "#print d\n",
    "#print type(d)\n",
    "\n",
    "# а теперь надо склеить все обратно с строку !!!!\n",
    "#e = \" \".join (d)\n",
    "#print e"
   ]
  },
  {
   "cell_type": "code",
   "execution_count": 225,
   "metadata": {},
   "outputs": [
    {
     "name": "stdout",
     "output_type": "stream",
     "text": [
      "in comparison to dogs, cats have not undergone major changes during the domestication process.\n",
      "in comparison to dogs cats have not undergone major changes during the domestication process\n",
      "\n",
      "as cat simply catenates streams of bytes, it can be also used to concatenate binary files, where it will just concatenate sequence of bytes.\n",
      "as cat simply catenates streams of bytes it can be also used to concatenate binary files where it will just concatenate sequence of bytes\n",
      "\n",
      "a common interactive use of cat for a single file is to output the content of a file to standard output.\n",
      "a common interactive use of cat for a single file is to output the content of a file to standard output\n",
      "\n",
      "cats can hear sounds too faint or too high in frequency for human ears, such as those made by mice and other small animals.\n",
      "cats can hear sounds too faint or too high in frequency for human ears such as those made by mice and other small animals\n",
      "\n",
      "in one, people deliberately tamed cats in a process of artificial selection, as they were useful predators of vermin.\n",
      "in one people deliberately tamed cats in a process of artificial selection as they were useful predators of vermin\n",
      "\n",
      "the domesticated cat and its closest wild ancestor are both diploid organisms that possess 38 chromosomes and roughly 20,000 genes.\n",
      "the domesticated cat and its closest wild ancestor are both diploid organisms that possess chromosomes and roughly genes\n",
      "\n",
      "domestic cats are similar in size to the other members of the genus felis, typically weighing between 4 and 5 kg (8.8 and 11.0 lb).\n",
      "domestic cats are similar in size to the other members of the genus felis typically weighing between and kg and lb\n",
      "\n",
      "however, if the output is piped or redirected, cat is unnecessary.\n",
      "however if the output is piped or redirected cat is unnecessary\n",
      "\n",
      "cat with one named file is safer where human error is a concern - one wrong use of the default redirection symbol \">\" instead of \"<\" (often adjacent on keyboards) may permanently delete the file you were just needing to read.\n",
      "cat with one named file is safer where human error is a concern one wrong use of the default redirection symbol instead of often adjacent on keyboards may permanently delete the file you were just needing to read\n",
      "\n",
      "in terms of legibility, a sequence of commands starting with cat and connected by pipes has a clear left-to-right flow of information.\n",
      "in terms of legibility a sequence of commands starting with cat and connected by pipes has a clear left to right flow of information\n",
      "\n",
      "cat command is one of the basic commands that you learned when you started in the unix / linux world.\n",
      "cat command is one of the basic commands that you learned when you started in the unix linux world\n",
      "\n",
      "using cat command, the lines received from stdin can be redirected to a new file using redirection symbols.\n",
      "using cat command the lines received from stdin can be redirected to a new file using redirection symbols\n",
      "\n",
      "when you type simply cat command without any arguments, it just receives the stdin content and displays it in the stdout.\n",
      "when you type simply cat command without any arguments it just receives the stdin content and displays it in the stdout\n",
      "\n",
      "leopard was released on october 26, 2007 as the successor of tiger (version 10.4), and is available in two editions.\n",
      "leopard was released on october as the successor of tiger version and is available in two editions\n",
      "\n",
      "according to apple, leopard contains over 300 changes and enhancements over its predecessor, mac os x tiger.\n",
      "according to apple leopard contains over changes and enhancements over its predecessor mac os x tiger\n",
      "\n",
      "as of mid 2010, some apple computers have firmware factory installed which will no longer allow installation of mac os x leopard.\n",
      "as of mid some apple computers have firmware factory installed which will no longer allow installation of mac os x leopard\n",
      "\n",
      "since apple moved to using intel processors in their computers, the osx86 community has developed and now also allows mac os x tiger and later releases to be installed on non-apple x86-based computers.\n",
      "since apple moved to using intel processors in their computers the osx community has developed and now also allows mac os x tiger and later releases to be installed on non apple x based computers\n",
      "\n",
      "os x mountain lion was released on july 25, 2012 for purchase and download through apple's mac app store, as part of a switch to releasing os x versions online and every year.\n",
      "os x mountain lion was released on july for purchase and download through apple s mac app store as part of a switch to releasing os x versions online and every year\n",
      "\n",
      "apple has released a small patch for the three most recent versions of safari running on os x yosemite, mavericks, and mountain lion.\n",
      "apple has released a small patch for the three most recent versions of safari running on os x yosemite mavericks and mountain lion\n",
      "\n",
      "the mountain lion release marks the second time apple has offered an incremental upgrade, rather than releasing a new cat entirely.\n",
      "the mountain lion release marks the second time apple has offered an incremental upgrade rather than releasing a new cat entirely\n",
      "\n",
      "mac os x mountain lion installs in place, so you won't need to create a separate disk or run the installation off an external drive.\n",
      "mac os x mountain lion installs in place so you won t need to create a separate disk or run the installation off an external drive\n",
      "\n",
      "the fifth major update to mac os x, leopard, contains such a mountain of features - more than 300 by apple's count.\n",
      "the fifth major update to mac os x leopard contains such a mountain of features more than by apple s count\n",
      "\n"
     ]
    }
   ],
   "source": [
    "sentences = open('sentences.txt', 'r') \n",
    "#lower = open('sentences_lower.txt', 'w')\n",
    "i = 0\n",
    "dict_sent = [] # Словать для строк с нижним регистром\n",
    "for line in sentences:\n",
    "    if i >= 0:\n",
    "        string = line.lower() # Считываю каждую строку и привожу ее к нижнему регистру\n",
    "        #print string\n",
    "        c = re.split('[^a-z]', string)  # Разделяю на слова re.split('[^a-z]', line)\n",
    "        #print c\n",
    "        d = [x for x in c if x != 'n' and x != ''] # Удалил разделители строк и пустые слова\n",
    "        #print d\n",
    "        e = \" \".join (d) # Склеил обратно в сроку\n",
    "        #lower.write(e)\n",
    "        print string, e\n",
    "        print\n",
    "        dict_sent.append(e) # Добавляю каждую строку с нижним регистром в словарь dict_sent\n",
    "    i += 1\n",
    " \n",
    "sentences.close()\n",
    "#lower.close()\n",
    "#!cat sentences_lower.txt\n",
    "#print dict_sent"
   ]
  },
  {
   "cell_type": "code",
   "execution_count": 226,
   "metadata": {},
   "outputs": [],
   "source": [
    "#lower = open('sentences_lower.txt', 'r')\n",
    "spisok = [] # Список всех слов в файле\n",
    "i = 0\n",
    "for line in dict_sent:\n",
    "    if i >= 0:\n",
    "        spisok = spisok + re.split('[^a-z]', line.lower()) # Разбил тест на слова и склеил все в одинбольшой список list\n",
    "#    i += 1\n",
    "\n",
    "#file_lower.close()\n",
    "#print spisok # если надо проверить получившийся список"
   ]
  },
  {
   "cell_type": "code",
   "execution_count": 227,
   "metadata": {},
   "outputs": [],
   "source": [
    "#spisok_cut = [x for x in spisok\n",
    "#              if x != 'n' and x != ''] # Удалил разделитель строк и пустые слова\n",
    "# spisok_cut - список всех слов в файле без переноса строк и пробелов\n",
    "#print spisok_cut\n",
    "\n",
    "#uniq_set = list(set(spisok_cut))\n",
    "# Создал набор уникальных слов, передав его встроенной функции set(). - без сохранения порядка\n",
    "# Если снова понадобится реальный список, нужно аналогичным образом передать набор в функцию list()\n",
    "#print len(uniq_set), uniq_set"
   ]
  },
  {
   "cell_type": "code",
   "execution_count": 228,
   "metadata": {},
   "outputs": [
    {
     "name": "stdout",
     "output_type": "stream",
     "text": [
      "['in', 'comparison', 'to', 'dogs', 'cats', 'have', 'not', 'undergone', 'major', 'changes', 'during', 'the', 'domestication', 'process', 'as', 'cat', 'simply', 'catenates', 'streams', 'of', 'bytes', 'it', 'can', 'be', 'also', 'used', 'concatenate', 'binary', 'files', 'where', 'will', 'just', 'sequence', 'a', 'common', 'interactive', 'use', 'for', 'single', 'file', 'is', 'output', 'content', 'standard', 'hear', 'sounds', 'too', 'faint', 'or', 'high', 'frequency', 'human', 'ears', 'such', 'those', 'made', 'by', 'mice', 'and', 'other', 'small', 'animals', 'one', 'people', 'deliberately', 'tamed', 'artificial', 'selection', 'they', 'were', 'useful', 'predators', 'vermin', 'domesticated', 'its', 'closest', 'wild', 'ancestor', 'are', 'both', 'diploid', 'organisms', 'that', 'possess', 'chromosomes', 'roughly', 'genes', 'domestic', 'similar', 'size', 'members', 'genus', 'felis', 'typically', 'weighing', 'between', 'kg', 'lb', 'however', 'if', 'piped', 'redirected', 'unnecessary', 'with', 'named', 'safer', 'error', 'concern', 'wrong', 'default', 'redirection', 'symbol', 'instead', 'often', 'adjacent', 'on', 'keyboards', 'may', 'permanently', 'delete', 'you', 'needing', 'read', 'terms', 'legibility', 'commands', 'starting', 'connected', 'pipes', 'has', 'clear', 'left', 'right', 'flow', 'information', 'command', 'basic', 'learned', 'when', 'started', 'unix', 'linux', 'world', 'using', 'lines', 'received', 'from', 'stdin', 'new', 'symbols', 'type', 'without', 'any', 'arguments', 'receives', 'displays', 'stdout', 'leopard', 'was', 'released', 'october', 'successor', 'tiger', 'version', 'available', 'two', 'editions', 'according', 'apple', 'contains', 'over', 'enhancements', 'predecessor', 'mac', 'os', 'x', 'mid', 'some', 'computers', 'firmware', 'factory', 'installed', 'which', 'no', 'longer', 'allow', 'installation', 'since', 'moved', 'intel', 'processors', 'their', 'osx', 'community', 'developed', 'now', 'allows', 'later', 'releases', 'non', 'based', 'mountain', 'lion', 'july', 'purchase', 'download', 'through', 's', 'app', 'store', 'part', 'switch', 'releasing', 'versions', 'online', 'every', 'year', 'patch', 'three', 'most', 'recent', 'safari', 'running', 'yosemite', 'mavericks', 'release', 'marks', 'second', 'time', 'offered', 'an', 'incremental', 'upgrade', 'rather', 'than', 'entirely', 'installs', 'place', 'so', 'won', 't', 'need', 'create', 'separate', 'disk', 'run', 'off', 'external', 'drive', 'fifth', 'update', 'features', 'more', 'count']\n",
      "[0, 1, 2, 3, 4, 5, 6, 7, 8, 9, 10, 11, 12, 13, 14, 15, 16, 17, 18, 19, 20, 21, 22, 23, 24, 25, 26, 27, 28, 29, 30, 31, 32, 33, 34, 35, 36, 37, 38, 39, 40, 41, 42, 43, 44, 45, 46, 47, 48, 49, 50, 51, 52, 53, 54, 55, 56, 57, 58, 59, 60, 61, 62, 63, 64, 65, 66, 67, 68, 69, 70, 71, 72, 73, 74, 75, 76, 77, 78, 79, 80, 81, 82, 83, 84, 85, 86, 87, 88, 89, 90, 91, 92, 93, 94, 95, 96, 97, 98, 99, 100, 101, 102, 103, 104, 105, 106, 107, 108, 109, 110, 111, 112, 113, 114, 115, 116, 117, 118, 119, 120, 121, 122, 123, 124, 125, 126, 127, 128, 129, 130, 131, 132, 133, 134, 135, 136, 137, 138, 139, 140, 141, 142, 143, 144, 145, 146, 147, 148, 149, 150, 151, 152, 153, 154, 155, 156, 157, 158, 159, 160, 161, 162, 163, 164, 165, 166, 167, 168, 169, 170, 171, 172, 173, 174, 175, 176, 177, 178, 179, 180, 181, 182, 183, 184, 185, 186, 187, 188, 189, 190, 191, 192, 193, 194, 195, 196, 197, 198, 199, 200, 201, 202, 203, 204, 205, 206, 207, 208, 209, 210, 211, 212, 213, 214, 215, 216, 217, 218, 219, 220, 221, 222, 223, 224, 225, 226, 227, 228, 229, 230, 231, 232, 233, 234, 235, 236, 237, 238, 239, 240, 241, 242, 243, 244, 245, 246, 247, 248, 249, 250, 251, 252, 253]\n"
     ]
    }
   ],
   "source": [
    "uniq = [] # Список уникальных слов с сохранением порядка\n",
    "keys = [] # Список ключей\n",
    "k = -1\n",
    "for x in spisok: \n",
    "    if x not in uniq:\n",
    "        uniq.append(x) # Добавляю только уникальные слова\n",
    "        k = k + 1\n",
    "        keys.append(k) # Заполняю словарь keys ключами\n",
    "print uniq\n",
    "print keys"
   ]
  },
  {
   "cell_type": "code",
   "execution_count": 229,
   "metadata": {},
   "outputs": [],
   "source": [
    "# Создание словаря с ключами: список всех уникальных слов с присвоенным каждому слову ключом\n",
    "#keys_uniq = dict(zip(keys, uniq))\n",
    "#print keys_uniq"
   ]
  },
  {
   "cell_type": "code",
   "execution_count": 230,
   "metadata": {},
   "outputs": [
    {
     "name": "stdout",
     "output_type": "stream",
     "text": [
      "Число строк =  22\n",
      "Число уникальных слов =  254\n"
     ]
    }
   ],
   "source": [
    "print \"Число строк = \", len(dict_sent)\n",
    "print \"Число уникальных слов = \", len(uniq)"
   ]
  },
  {
   "cell_type": "code",
   "execution_count": 231,
   "metadata": {},
   "outputs": [
    {
     "name": "stdout",
     "output_type": "stream",
     "text": [
      "[[0. 0. 0. ... 0. 0. 0.]\n",
      " [0. 0. 0. ... 0. 0. 0.]\n",
      " [0. 0. 0. ... 0. 0. 0.]\n",
      " ...\n",
      " [0. 0. 0. ... 0. 0. 0.]\n",
      " [0. 0. 0. ... 0. 0. 0.]\n",
      " [0. 0. 0. ... 0. 0. 0.]]\n"
     ]
    }
   ],
   "source": [
    "matrix = np.zeros(shape=(len(dict_sent),len(uniq))) # Создал матрицу 22х254 print matrix\n",
    "print matrix\n",
    "# print uniq, (len(uniq))"
   ]
  },
  {
   "cell_type": "code",
   "execution_count": 232,
   "metadata": {},
   "outputs": [
    {
     "name": "stdout",
     "output_type": "stream",
     "text": [
      "[[1. 1. 1. ... 0. 0. 0.]\n",
      " [0. 0. 1. ... 0. 0. 0.]\n",
      " [0. 0. 2. ... 0. 0. 0.]\n",
      " ...\n",
      " [0. 0. 0. ... 0. 0. 0.]\n",
      " [1. 0. 1. ... 0. 0. 0.]\n",
      " [0. 0. 1. ... 1. 1. 1.]] <type 'numpy.ndarray'>\n"
     ]
    }
   ],
   "source": [
    "for i in range(len(dict_sent)): # Для каждой строки из dict_sent \n",
    "    string = dict_sent[i].split()\n",
    "    #print string, len(string)\n",
    "    \n",
    "    for z in range(len(uniq)):\n",
    "        matrix [i][z] = 0\n",
    "        for j in range(len(string)):\n",
    "            # print spisok_cut[j], uniq[z]\n",
    "            if string[j] == uniq[z]:\n",
    "                matrix [i][z] = matrix [i][z] + 1\n",
    "                #print \"строка =\", i, \"слово в строке =\", j, string[j], \"слово в uniq =\", z, uniq[z], string[j] == uniq[z], matrix [i][z]\n",
    "                \n",
    "print matrix, type (matrix)\n",
    "#print matrix [2],[0]"
   ]
  },
  {
   "cell_type": "code",
   "execution_count": 233,
   "metadata": {},
   "outputs": [],
   "source": [
    "#Найдите косинусное расстояние от предложения в самой первой строке \n",
    "#(In comparison to dogs, cats have not undergone...) \n",
    "#до всех остальных с помощью функции scipy.spatial.distance.cosine. \n",
    "#Какие номера у двух предложений, ближайших к нему по этому расстоянию \n",
    "#(строки нумеруются с нуля)? \n",
    "#Эти два числа и будут ответами на задание. \n",
    "#Само предложение (In comparison to dogs, cats have not undergone... ) имеет индекс 0.\n",
    "#import scipy.spatial.distance\n",
    "#cos_matrix = []\n",
    "#for i in range(len(dict_sent)):\n",
    "#  cos_matrix.append(scipy.spatial.distance.cosine(word_matrix[0], word_matrix[i]))\n",
    "#cos_matrix = np.array(cos_matrix) \n",
    "#print (cos_matrix)"
   ]
  },
  {
   "cell_type": "code",
   "execution_count": 234,
   "metadata": {},
   "outputs": [],
   "source": [
    "import scipy.spatial.distance as ds"
   ]
  },
  {
   "cell_type": "code",
   "execution_count": 235,
   "metadata": {},
   "outputs": [
    {
     "name": "stdout",
     "output_type": "stream",
     "text": [
      "[0.0, 0.9527544408738466, 0.8644738145642124, 0.8951715163278082, 0.7770887149698589, 0.9402385695332803, 0.7327387580875756, 0.9258750683338899, 0.8842724875284311, 0.9055088817476932, 0.8328165362273942, 0.8804771390665607, 0.8396432548525454, 0.8703592552895671, 0.8740118423302576, 0.9442721787424647, 0.8406361854220809, 0.956644501523794, 0.9442721787424647, 0.8885443574849294, 0.8427572744917122, 0.8250364469440588]\n",
      "min1: 0.7327387580875756 \t6\n"
     ]
    }
   ],
   "source": [
    "dis = [] #Сформировал массив, куда занесу косинусные расстояния\n",
    "\n",
    "for x in range(len(matrix)):\n",
    "    dis.append(ds.cosine (matrix [0], matrix [x])) \n",
    "        #Вычисление косинусных расстояний и добавление в dis\n",
    "\n",
    "print dis\n",
    "min1 = min(dis[1:len(matrix)])\n",
    "print \"min1:\", min1, \"\\t\", dis.index(min1)"
   ]
  },
  {
   "cell_type": "code",
   "execution_count": 236,
   "metadata": {},
   "outputs": [
    {
     "name": "stdout",
     "output_type": "stream",
     "text": [
      "min1 =  0.7327387580875756 \t6\n",
      "max =  0.956644501523794 \t17\n"
     ]
    }
   ],
   "source": [
    "print \"min1 = \", min1, \"\\t\", dis.index(min1)\n",
    "\n",
    "min2 = max(dis)\n",
    "print \"max = \", min2, \"\\t\", dis.index(min2)\n"
   ]
  },
  {
   "cell_type": "code",
   "execution_count": 237,
   "metadata": {},
   "outputs": [
    {
     "name": "stdout",
     "output_type": "stream",
     "text": [
      "1 0.9527544408738466\n",
      "min2 =  0.9527544408738466 \t1\n",
      "2 0.8644738145642124\n",
      "min2 =  0.8644738145642124 \t2\n",
      "3 0.8951715163278082\n",
      "4 0.7770887149698589\n",
      "min2 =  0.7770887149698589 \t4\n",
      "5 0.9402385695332803\n",
      "7 0.9258750683338899\n",
      "8 0.8842724875284311\n",
      "9 0.9055088817476932\n",
      "10 0.8328165362273942\n",
      "11 0.8804771390665607\n",
      "12 0.8396432548525454\n",
      "13 0.8703592552895671\n",
      "14 0.8740118423302576\n",
      "15 0.9442721787424647\n",
      "16 0.8406361854220809\n",
      "17 0.956644501523794\n",
      "18 0.9442721787424647\n",
      "19 0.8885443574849294\n",
      "20 0.8427572744917122\n",
      "21 0.8250364469440588\n"
     ]
    }
   ],
   "source": [
    "for x in range(len(matrix)):\n",
    "    if dis[x] > min1:\n",
    "        print x, dis[x]\n",
    "        if min2 > dis[x]:\n",
    "            min2 = dis[x]\n",
    "            print \"min2 = \", dis[x], \"\\t\", x"
   ]
  },
  {
   "cell_type": "code",
   "execution_count": 238,
   "metadata": {},
   "outputs": [
    {
     "name": "stdout",
     "output_type": "stream",
     "text": [
      "min1: 0.7327387580875756 \t6\n",
      "min2: 0.7770887149698589 \t4\n"
     ]
    }
   ],
   "source": [
    "print \"min1:\", min1, \"\\t\", dis.index(min1)\n",
    "print \"min2:\", min2, \"\\t\", dis.index(min2)"
   ]
  },
  {
   "cell_type": "code",
   "execution_count": null,
   "metadata": {},
   "outputs": [],
   "source": []
  }
 ],
 "metadata": {
  "kernelspec": {
   "display_name": "Python 2",
   "language": "python",
   "name": "python2"
  },
  "language_info": {
   "codemirror_mode": {
    "name": "ipython",
    "version": 2
   },
   "file_extension": ".py",
   "mimetype": "text/x-python",
   "name": "python",
   "nbconvert_exporter": "python",
   "pygments_lexer": "ipython2",
   "version": "2.7.16"
  }
 },
 "nbformat": 4,
 "nbformat_minor": 2
}
